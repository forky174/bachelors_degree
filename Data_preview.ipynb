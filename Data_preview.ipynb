{
 "cells": [
  {
   "metadata": {},
   "cell_type": "markdown",
   "source": "Импорт необходимых библиотек:",
   "id": "ced906526c89053b"
  },
  {
   "metadata": {
    "ExecuteTime": {
     "end_time": "2025-09-13T22:15:02.121830Z",
     "start_time": "2025-09-13T22:15:00.782684Z"
    }
   },
   "cell_type": "code",
   "source": [
    "import numpy as np\n",
    "import matplotlib.pylab as plt\n",
    "from scipy.fftpack import fft, fftfreq, ifft\n",
    "from datetime import datetime, timedelta"
   ],
   "id": "637be13373381dca",
   "outputs": [],
   "execution_count": 2
  },
  {
   "metadata": {},
   "cell_type": "markdown",
   "source": "Задание параметров обработки:",
   "id": "eb1ead181eea692d"
  },
  {
   "metadata": {
    "ExecuteTime": {
     "end_time": "2025-09-13T22:15:03.259696Z",
     "start_time": "2025-09-13T22:15:03.250608Z"
    }
   },
   "cell_type": "code",
   "source": [
    "sample_rate         = 32000     #Hz\n",
    "\n",
    "M1_amplifier_dB     = 26.       #dB\n",
    "M3_amplifier_dB     = 32.       #dB\n",
    "M1_sensitivity_dB   = -165.     #dB re 1V/µPa\n",
    "M3_sensitivity_dB   = -170.     #dB re 1V/µPa\n",
    "\n",
    "station             = 'M1'\n",
    "                            # ( year, month, day, hour, min, sec, microsecond)\n",
    "start_time          = datetime( 2014,     6,  20,    9,  40,   0 )\n",
    "end_time            = datetime( 2014,     6,  20,   10,  00,   0 )\n",
    "\n",
    "freq_band           = [1000, 2000] #Hz"
   ],
   "id": "a6558e09862bb565",
   "outputs": [],
   "execution_count": 3
  },
  {
   "metadata": {},
   "cell_type": "markdown",
   "source": "Чтение файлов и отображение сигнала:",
   "id": "da0e799490f3cfc6"
  },
  {
   "metadata": {
    "ExecuteTime": {
     "end_time": "2025-09-13T22:31:17.099743Z",
     "start_time": "2025-09-13T22:30:54.853662Z"
    }
   },
   "cell_type": "code",
   "source": [
    "duration = end_time - start_time\n",
    "files_num = int(np.ceil(duration.seconds / 600))\n",
    "\n",
    "data_array_V = np.array([0])\n",
    "\n",
    "def file_name(station, start, end):\n",
    "    return f'{station}_{start.day:02d}{start.month:02d}{start.hour:02d}{start.minute:02d}-{end.day:02d}{end.month:02d}{end.hour:02d}{end.minute:02d}.dat'\n",
    "\n",
    "current_time = start_time\n",
    "\n",
    "samples = np.zeros(duration.seconds * sample_rate * files_num)\n",
    "data_arrays = []\n",
    "\n",
    "for i in range(files_num):\n",
    "    next_time = start_time + timedelta(minutes = 10)\n",
    "    with open(file_name(station, current_time, next_time), 'r') as fID:\n",
    "        samples = np.fromfile(fID, np.int16).astype(np.float32)\n",
    "        data_arrays.append(samples)\n",
    "    continue_time = next_time\n",
    "\n",
    "data_array_V = np.concatenate(data_arrays)\n",
    "\n",
    "positive_mask = data_array_V > 0\n",
    "negative_mask = data_array_V < 0\n",
    "\n",
    "constant = (M1_sensitivity_dB + M1_amplifier_dB) * (station == 'M1') + (M3_sensitivity_dB + M3_amplifier_dB) * (station == 'M3')\n",
    "\n",
    "SPL = np.zeros_like(data_array_V)\n",
    "SPL[positive_mask] = 20 * np.log10(data_array_V[positive_mask]) - constant\n",
    "SPL[negative_mask] = -20 * np.log10(np.abs(data_array_V[negative_mask])) + constant\n",
    "\n",
    "time = np.linspace(start_time, end_time, duration.seconds * sample_rate)\n",
    "\n",
    "# plt.plot(time, SPL)\n",
    "# plt.xlabel('time [s]')\n",
    "# plt.ylabel('SPL (???) [dB re 1 µPa]')"
   ],
   "id": "a1b58c8980269448",
   "outputs": [],
   "execution_count": 20
  },
  {
   "metadata": {},
   "cell_type": "markdown",
   "source": "Преобразование Фурье, вырезание частоты и отрисовка спектров:",
   "id": "1582000d400f5123"
  },
  {
   "metadata": {
    "ExecuteTime": {
     "end_time": "2025-09-13T22:31:54.901570Z",
     "start_time": "2025-09-13T22:31:51.735158Z"
    }
   },
   "cell_type": "code",
   "source": [
    "ft = fft(SPL)\n",
    "freq = fftfreq(SPL.size, 1/sample_rate)\n",
    "mask = (np.abs(freq) >= freq_band[0]) & (np.abs(freq) <= freq_band[1])\n",
    "spectrum_filter = ft * mask\n",
    "# подумать, нужно ли сохранять фазу\n",
    "# plt.plot(freq[:int(len(freq)/2)], np.real(ft[:int(len(freq)/2)]))\n",
    "# plt.plot(freq[:int(len(freq)/2)], np.real(spectrum_filter[:int(len(freq)/2)]))\n",
    "signal_filter = ifft(spectrum_filter)\n",
    "# plt.plot(SPL)\n",
    "# plt.plot(np.real(signal_filter))"
   ],
   "id": "98fcd44be37893a5",
   "outputs": [],
   "execution_count": 21
  },
  {
   "metadata": {},
   "cell_type": "markdown",
   "source": "Запись аудио для прослушивания:",
   "id": "88df88d615c26813"
  },
  {
   "metadata": {},
   "cell_type": "code",
   "source": [
    "# from scipy.io.wavfile import write\n",
    "# write(\"example.wav\", sample_rate, SPL.astype(np.int16))"
   ],
   "id": "690cae174bdcfaaf",
   "outputs": [],
   "execution_count": null
  }
 ],
 "metadata": {
  "kernelspec": {
   "display_name": "Python 3",
   "language": "python",
   "name": "python3"
  },
  "language_info": {
   "codemirror_mode": {
    "name": "ipython",
    "version": 2
   },
   "file_extension": ".py",
   "mimetype": "text/x-python",
   "name": "python",
   "nbconvert_exporter": "python",
   "pygments_lexer": "ipython2",
   "version": "2.7.6"
  }
 },
 "nbformat": 4,
 "nbformat_minor": 5
}
